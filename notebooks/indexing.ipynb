{
 "cells": [
  {
   "cell_type": "markdown",
   "id": "3f1519f7",
   "metadata": {},
   "source": [
    "# Load "
   ]
  },
  {
   "cell_type": "code",
   "execution_count": 2,
   "id": "329adc7e",
   "metadata": {},
   "outputs": [],
   "source": [
    "import os\n",
    "\n",
    "dataset = ''\n",
    "files = os.listdir('../data/cleaned-data/')\n",
    "for file_name in files:\n",
    "    with open(f'../data/cleaned-data/{file_name}', 'r', encoding='utf-8') as f:\n",
    "        dataset += f.read() + '\\n\\n'"
   ]
  },
  {
   "cell_type": "markdown",
   "id": "0d123806",
   "metadata": {},
   "source": [
    "# Split"
   ]
  },
  {
   "cell_type": "markdown",
   "id": "8b0d8e34",
   "metadata": {},
   "source": [
    "### Semantic chunking with each article"
   ]
  },
  {
   "cell_type": "code",
   "execution_count": 3,
   "id": "55d4aba5",
   "metadata": {},
   "outputs": [
    {
     "data": {
      "text/plain": [
       "238"
      ]
     },
     "execution_count": 3,
     "metadata": {},
     "output_type": "execute_result"
    }
   ],
   "source": [
    "chunks = dataset.split('\\n\\n')\n",
    "len(chunks)"
   ]
  },
  {
   "cell_type": "markdown",
   "id": "a8877273",
   "metadata": {},
   "source": [
    "### Split by characters"
   ]
  },
  {
   "cell_type": "code",
   "execution_count": 9,
   "id": "2b37bc9a",
   "metadata": {},
   "outputs": [
    {
     "data": {
      "text/plain": [
       "302"
      ]
     },
     "execution_count": 9,
     "metadata": {},
     "output_type": "execute_result"
    }
   ],
   "source": [
    "from langchain_text_splitters import CharacterTextSplitter\n",
    "\n",
    "chunk_size = 1000\n",
    "chunk_overlap = 0.2 * chunk_size\n",
    "\n",
    "text_splitter = CharacterTextSplitter(\n",
    "    separator='',\n",
    "    chunk_size=chunk_size,\n",
    "    chunk_overlap=chunk_overlap,\n",
    ")\n",
    "chunks = text_splitter.split_text(dataset)\n",
    "len(chunks)"
   ]
  },
  {
   "cell_type": "markdown",
   "id": "875e57ee",
   "metadata": {},
   "source": [
    "### Summary"
   ]
  },
  {
   "cell_type": "code",
   "execution_count": null,
   "id": "0410c090",
   "metadata": {},
   "outputs": [],
   "source": [
    "# import time\n",
    "# from tqdm import tqdm\n",
    "# from google import genai\n",
    "\n",
    "# client = genai.Client(api_key='')\n",
    "# prompt = '''\n",
    "# **دستور العمل:**\n",
    "# ماده زیر را از آیین‌نامه‌های دانشگاه ولی عصر رفسنجان به طور کامل و دقیق خلاصه کنید، به گونه‌ای که تنها نکات کلیدی و اطلاعات ضروری حفظ شوند و برای استفاده در یک سیستم RAG (Retrieval-Augmented Generation) مناسب باشد. از هرگونه توضیحات اضافی یا تفسیر خودداری کنید و فقط به متن اصلی خلاصه شده بسنده نمایید.\n",
    "\n",
    "# **مثال:**\n",
    "# ماده ۱۲: دانشجویان موظفند کلیه تکالیف درسی خود را در مهلت مقرر تحویل نمایند. عدم تحویل تکالیف یا تأخیر در آن می‌تواند منجر به کسر نمره یا عدم پذیرش تکلیف گردد. در صورت وجود دلایل موجه برای تأخیر، دانشجو باید مراتب را به اطلاع استاد مربوطه برساند و با ارائه مستندات، درخواست تمدید مهلت نماید. تصمیم‌گیری نهایی در خصوص پذیرش تأخیر بر عهده استاد درس است.\n",
    "# خروجی مورد انتظار از مدل (برای مثال بالا):\n",
    "# \"دانشجویان باید تکالیف را به موقع تحویل دهند. تأخیر یا عدم تحویل ممکن است به کسر نمره یا عدم پذیرش منجر شود. در صورت دلایل موجه برای تأخیر، دانشجو باید با استاد هماهنگ کرده و مستندات ارائه دهد. پذیرش تأخیر با استاد است.\" \n",
    "\n",
    "# **متن ماده:** \n",
    "# {context}\n",
    "\n",
    "# **خلاصه ماده:**\n",
    "# '''.strip()\n",
    "\n",
    "# result = []\n",
    "\n",
    "# for data in tqdm(dataset):\n",
    "#     response = client.models.generate_content(\n",
    "#         model=\"gemini-2.5-flash-lite\",\n",
    "#         contents=prompt.format(context=data),\n",
    "#     )\n",
    "#     result.append(response.text)\n",
    "#     time.sleep(4)\n",
    "\n",
    "# with open('output.txt', 'w', encoding='utf-8') as f:\n",
    "#     f.write('\\n---\\n'.join(result))"
   ]
  },
  {
   "cell_type": "code",
   "execution_count": 15,
   "id": "57c67a2a",
   "metadata": {},
   "outputs": [],
   "source": [
    "with open('../data/structured/summary.txt', 'r', encoding='utf-8') as f:\n",
    "    chunks = f.read().split('\\n---\\n')"
   ]
  },
  {
   "cell_type": "markdown",
   "id": "03c8f02f",
   "metadata": {},
   "source": [
    "### Key sentences"
   ]
  },
  {
   "cell_type": "code",
   "execution_count": 19,
   "id": "7f358dcd",
   "metadata": {},
   "outputs": [],
   "source": [
    "# prompt = '''\n",
    "# **از شما می‌خواهم که جملات کلیدی و اصلی را از متن آیین‌نامه دانشگاه که در ادامه ارائه می‌شود، استخراج کنید. لطفاً جملات را دقیقاً همانطور که هستند، بدون هیچ‌گونه تغییری، بازگردانید. اگر بیش از یک جمله کلیدی وجود داشت، هر جمله را با `\\n\\n` از جمله بعدی جدا کنید تا خروجی ساختاریافته باشد.**\n",
    "\n",
    "# **متن آیین‌نامه:**\n",
    "# {context}\n",
    "# '''.strip()"
   ]
  },
  {
   "cell_type": "code",
   "execution_count": 20,
   "id": "e2889e94",
   "metadata": {},
   "outputs": [],
   "source": [
    "with open('../data/structured/key-sentences.txt', 'r', encoding='utf-8') as f:\n",
    "    chunks = f.read().split('\\n---\\n')\n",
    "chunks = '\\n\\n'.join(chunks).split('\\n\\n')    "
   ]
  },
  {
   "cell_type": "markdown",
   "id": "6417d5c9",
   "metadata": {},
   "source": [
    "# Store"
   ]
  },
  {
   "cell_type": "code",
   "execution_count": 21,
   "id": "7476dc09",
   "metadata": {},
   "outputs": [],
   "source": [
    "from langchain_huggingface import HuggingFaceEmbeddings\n",
    "from langchain_community.vectorstores import FAISS\n",
    "\n",
    "DEVICE = 'cuda'\n",
    "\n",
    "vector_store = FAISS.from_texts(\n",
    "    texts=chunks,\n",
    "    embedding=HuggingFaceEmbeddings(\n",
    "        model_name='../config/embedding_model/',\n",
    "        model_kwargs={'device': DEVICE},\n",
    "    ),\n",
    ")"
   ]
  },
  {
   "cell_type": "code",
   "execution_count": 22,
   "id": "dea6b795",
   "metadata": {},
   "outputs": [
    {
     "name": "stdout",
     "output_type": "stream",
     "text": [
      "به پایان رسیدن سقف سنوات مجاز تحصیل دانشجو \n",
      "\n",
      "\n",
      "ماده 13: مدت مجاز تحصیل در دوره‌های تحصیلی در دوره کارشناسی پیوسته 8 نیمسال است.\n",
      "تبصره 1: د صورتی که سنوات دانشجو افزایش یابد با تایید شورای آموزشی دانشگاه، دانشجو در مقطع کارشناسی پیوسته حداکثر از 2 نیمسال سنوات ارفاقی بهره‌مند می‌شود.\n",
      "تبصره 2: دانشجو باید دلایل کافی مبنی بر علت طولانی شدن تحصیل را به شورای آموزشی دانشگاه اعلام نماید.\n",
      "تبصره 5: حداقل مدت مجاز برای دانش آموختگی در دوره کارشناسی پیوسته 6 نیمسال تحصیلی می‌باشد. \n",
      "\n",
      "\n",
      "ظرفیت پذیرش دانشجوی تحصیلات ت کمیلی (در صورت وج ود دانشجو) عضو نیمه - حضوری نصف عضو تماموقت محاسبه می‌شود. \n",
      "\n",
      "\n",
      "تبصره 1: حداکثر واحد درسی قابل اخذ در هر نیمسال تحصیلی 20 واحد و در بازه تابستان 6 واحد است. \n",
      "\n",
      "\n"
     ]
    }
   ],
   "source": [
    "q = 'حداکثر غیبت مجاز برای دانشجویان چگونه است؟'\n",
    "for x in vector_store.similarity_search(q):\n",
    "    print(x.page_content, '\\n\\n')"
   ]
  },
  {
   "cell_type": "code",
   "execution_count": null,
   "id": "3133dcdf",
   "metadata": {},
   "outputs": [],
   "source": [
    "# vector_store.save_local('../data/knowledge-base/article/')\n",
    "# vector_store.save_local('../data/knowledge-base/character/')\n",
    "# vector_store.save_local('../data/knowledge-base/summary/')\n",
    "vector_store.save_local('../data/knowledge-base/key-sentences/')"
   ]
  }
 ],
 "metadata": {
  "kernelspec": {
   "display_name": "Python 3",
   "language": "python",
   "name": "python3"
  },
  "language_info": {
   "codemirror_mode": {
    "name": "ipython",
    "version": 3
   },
   "file_extension": ".py",
   "mimetype": "text/x-python",
   "name": "python",
   "nbconvert_exporter": "python",
   "pygments_lexer": "ipython3",
   "version": "3.13.5"
  }
 },
 "nbformat": 4,
 "nbformat_minor": 5
}
