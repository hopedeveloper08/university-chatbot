{
 "cells": [
  {
   "cell_type": "code",
   "execution_count": 3,
   "id": "4a511f4f",
   "metadata": {},
   "outputs": [],
   "source": [
    "from hazm import Normalizer, SentenceTokenizer\n",
    "import re\n",
    "import os"
   ]
  },
  {
   "cell_type": "code",
   "execution_count": 4,
   "id": "fff75e38",
   "metadata": {},
   "outputs": [],
   "source": [
    "normalizer = Normalizer(persian_numbers=False)\n",
    "tokenizer = SentenceTokenizer()"
   ]
  },
  {
   "cell_type": "code",
   "execution_count": 5,
   "id": "b83675d2",
   "metadata": {},
   "outputs": [],
   "source": [
    "file_names = os.listdir('../data/raw')"
   ]
  },
  {
   "cell_type": "code",
   "execution_count": 7,
   "id": "d0c981ad",
   "metadata": {},
   "outputs": [],
   "source": [
    "for file_name in file_names:\n",
    "    input_path = f'../data/raw/{file_name}'\n",
    "    output_path = f'../data/cleaned-data/{file_name}'\n",
    "\n",
    "    with open(input_path, 'r', encoding='utf-8') as f:\n",
    "        dataset = f.read()\n",
    "\n",
    "    text = normalizer.normalize(dataset)\n",
    "    text = tokenizer.tokenize(text)\n",
    "    text = '\\n'.join(text)\n",
    "\n",
    "\n",
    "    text = re.sub(r'¬', ' ', text)\n",
    "    text = re.sub(r'ۀ', 'ه', text)\n",
    "    text = re.sub(r'ؤ', 'و', text)\n",
    "    text = re.sub(r'ة', 'ه', text)\n",
    "\n",
    "\n",
    "    with open(output_path, 'w', encoding='utf-8') as f:\n",
    "        f.write(text)"
   ]
  }
 ],
 "metadata": {
  "kernelspec": {
   "display_name": "Python 3",
   "language": "python",
   "name": "python3"
  },
  "language_info": {
   "codemirror_mode": {
    "name": "ipython",
    "version": 3
   },
   "file_extension": ".py",
   "mimetype": "text/x-python",
   "name": "python",
   "nbconvert_exporter": "python",
   "pygments_lexer": "ipython3",
   "version": "3.11.9"
  }
 },
 "nbformat": 4,
 "nbformat_minor": 5
}
